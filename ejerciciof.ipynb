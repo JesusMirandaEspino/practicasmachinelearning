{
 "cells": [
  {
   "cell_type": "code",
   "execution_count": 16,
   "id": "52d9b274-dd4e-4d83-ae59-bc3b8f67a0a0",
   "metadata": {},
   "outputs": [],
   "source": [
    "import pandas as pd\n",
    "import numpy as np\n",
    "import matplotlib.pyplot as plt\n",
    "import random"
   ]
  },
  {
   "cell_type": "code",
   "execution_count": 17,
   "id": "b5764c2e-904d-4348-b594-7b4a82682893",
   "metadata": {},
   "outputs": [],
   "source": [
    "def crear_laberinto( tamanio, porcentaje_paredes, inicio=(0,0), meta=None ):\n",
    "    laberinto = np.zeros((tamanio, tamanio))\n",
    "    numero_paredes = int( (tamanio * tamanio ) * porcentaje_paredes / 100)\n",
    "\n",
    "    for pared in range(numero_paredes):\n",
    "        x,y = random.randint( 0, tamanio - 1 ),  random.randint( 0, tamanio - 1 )\n",
    "\n",
    "        if(x,y) != inicio and ( meta is None or (x,y) != meta ):\n",
    "            laberinto[x,y] = 1\n",
    "\n",
    "    if meta:\n",
    "        laberinto[meta] = 9\n",
    "    else:\n",
    "        while True:\n",
    "            x,y = random.randint( 0, tamanio - 1 ),  random.randint( 0, tamanio - 1 )\n",
    "            if laberinto[x,y] == 0 and (x,y) != inicio:\n",
    "                laberinto[meta] = 9\n",
    "                break\n",
    "    return laberinto"
   ]
  },
  {
   "cell_type": "code",
   "execution_count": 18,
   "id": "182e6770-9c2b-4ead-8479-3e2873c44bde",
   "metadata": {},
   "outputs": [],
   "source": [
    "\n",
    "def ver_laberinto(laberinto):\n",
    "    plt.figure( figsize=(5,5) )\n",
    "    plt.imshow(laberinto, cmap='hot', interpolation='nearest')\n",
    "    plt.colorbar();"
   ]
  },
  {
   "cell_type": "code",
   "execution_count": 19,
   "id": "f827c2a7-af16-4a19-8feb-acd436e88034",
   "metadata": {},
   "outputs": [
    {
     "data": {
      "text/plain": [
       "array([[0., 0., 0., 0., 0., 0., 0., 0., 0., 0.],\n",
       "       [0., 1., 0., 1., 0., 0., 0., 0., 0., 0.],\n",
       "       [0., 0., 0., 0., 0., 1., 0., 0., 0., 0.],\n",
       "       [0., 0., 0., 0., 0., 0., 0., 0., 0., 0.],\n",
       "       [1., 0., 0., 1., 0., 0., 0., 0., 0., 0.],\n",
       "       [1., 0., 0., 0., 0., 1., 0., 0., 1., 0.],\n",
       "       [0., 1., 0., 0., 0., 0., 0., 0., 0., 0.],\n",
       "       [1., 0., 0., 0., 0., 1., 0., 1., 0., 0.],\n",
       "       [1., 1., 1., 0., 0., 1., 0., 0., 1., 0.],\n",
       "       [0., 1., 0., 1., 0., 0., 0., 0., 0., 9.]])"
      ]
     },
     "execution_count": 19,
     "metadata": {},
     "output_type": "execute_result"
    }
   ],
   "source": [
    "laberinto = crear_laberinto(10,20, inicio=(0,0), meta=(9,9))\n",
    "laberinto\n"
   ]
  },
  {
   "cell_type": "code",
   "execution_count": 20,
   "id": "958e2d93-3e1f-4ab9-9d4e-d1863a1a7d8c",
   "metadata": {},
   "outputs": [
    {
     "data": {
      "image/png": "[encoded data removed]",
      "text/plain": [
       "<Figure size 500x500 with 2 Axes>"
      ]
     },
     "metadata": {},
     "output_type": "display_data"
    }
   ],
   "source": [
    "ver_laberinto(laberinto)"
   ]
  },
  {
   "cell_type": "code",
   "execution_count": null,
   "id": "58781fab-4b08-4926-a253-a60ef4ae0bf7",
   "metadata": {},
   "outputs": [],
   "source": []
  },
  {
   "cell_type": "code",
   "execution_count": 5,
   "id": "aff90a62-c541-4e3e-ab2b-20b481cb05e1",
   "metadata": {},
   "outputs": [],
   "source": [
    "alpha = 0.1\n",
    "gamma = 0.9\n",
    "epsilon = 0.1\n",
    "num_episodios = 500"
   ]
  },
  {
   "cell_type": "code",
   "execution_count": 6,
   "id": "4204c093-2e17-434a-898f-6a7a61fc481b",
   "metadata": {},
   "outputs": [],
   "source": [
    "def epsilon_codisioso(Q, estado, tamanio_estado):\n",
    "    if random.uniform(0,1) < epsilon:\n",
    "        return random.randint(0,3)\n",
    "    else:\n",
    "        return np.argmax(Q[estado])\n",
    "\n",
    "        \n",
    "    "
   ]
  },
  {
   "cell_type": "code",
   "execution_count": 7,
   "id": "3713a954-87fc-43a6-8b86-626a748b007d",
   "metadata": {},
   "outputs": [],
   "source": [
    "def ejecutar_accion(estado, accion, laberinto, tamanio):\n",
    "    fila, columna = divmod(estado, tamanio)\n",
    "    if accion == 0 and fila > 0:\n",
    "        fila -= 1\n",
    "    elif accion == 1 and fila < tamanio -1:\n",
    "        fila += 1\n",
    "    elif accion == 2 and columna > 0:\n",
    "        columna -= 1\n",
    "    elif accion == 3 and columna < tamanio -1:\n",
    "        columna += 1\n",
    "\n",
    "    siguiente_estado = fila * tamanio + columna\n",
    "\n",
    "    if laberinto[fila, columna] == 1:\n",
    "        recompensa = -100\n",
    "        siguiente_estado = estado\n",
    "        terminado = False\n",
    "    elif laberinto[fila, columna] == 9:\n",
    "        recompensa = 100\n",
    "        terminado = True\n",
    "    else:\n",
    "        recompensa = -1\n",
    "        terminado = False\n",
    "\n",
    "    return siguiente_estado, recompensa, terminado\n"
   ]
  },
  {
   "cell_type": "code",
   "execution_count": 8,
   "id": "e8904289-bcfd-446a-a430-7c3b9485ac04",
   "metadata": {},
   "outputs": [],
   "source": [
    "def q_learning(laberinto, tamanio, inicio, meta):\n",
    "    Q = np.zeros((tamanio * tamanio, 4))\n",
    "    for episodio in range(num_episodios):\n",
    "        estado = inicio\n",
    "        terminado = False\n",
    "\n",
    "        while not terminado:\n",
    "            accion = epsilon_codisioso(Q, estado, tamanio)\n",
    "            siguiente_estado, recompensa, terminado = ejecutar_accion(estado, accion, laberinto, tamanio)\n",
    "            Q[estado, accion] += alpha * ( recompensa + gamma * max(Q[siguiente_estado])  - Q[estado, accion]) \n",
    "            estado = siguiente_estado\n",
    "    return Q\n"
   ]
  },
  {
   "cell_type": "code",
   "execution_count": 9,
   "id": "e576f180-c1b6-4edf-a665-b323f5bf26cc",
   "metadata": {},
   "outputs": [],
   "source": [
    "def index_posicion(posicion, tamanio):\n",
    "    return posicion[0] * tamanio + posicion[1]"
   ]
  },
  {
   "cell_type": "code",
   "execution_count": 10,
   "id": "0b66c1d0-2afc-4b53-8d8d-9d5b9a7d11a8",
   "metadata": {},
   "outputs": [],
   "source": [
    "tamanio = 10\n",
    "posicion_inicio = (0,0)\n",
    "posicion_meta = (9,9)\n",
    "laberinto = crear_laberinto(tamanio, 20, inicio=posicion_inicio, meta = posicion_meta )\n",
    "inicio = index_posicion(posicion_inicio, tamanio)\n",
    "meta = index_posicion(posicion_meta, tamanio)\n",
    "valores_Q = q_learning(laberinto, tamanio, inicio, meta)"
   ]
  },
  {
   "cell_type": "code",
   "execution_count": 14,
   "id": "61d8615c-71fb-426d-a681-6013cfeeb9bc",
   "metadata": {},
   "outputs": [],
   "source": [
    "def mostrar_ruta_aprendida(laberinto, Q, inicio, meta, tamanio):\n",
    "    fila, columna = divmod(inicio, tamanio)\n",
    "    ruta = [(fila, columna)]\n",
    "    estado = inicio\n",
    "\n",
    "    while estado != meta:\n",
    "        accion = np.argmax(Q[estado])\n",
    "        estado, _, _ = ejecutar_accion(estado, accion, laberinto, tamanio)\n",
    "        fila, columna = divmod(estado, tamanio)\n",
    "        ruta.append( (fila, columna) )\n",
    "    plt.figure( figsize=(5,5) )\n",
    "    plt.imshow(laberinto, cmap='hot', interpolation='nearest')\n",
    "    filas, columnas = zip( *ruta )\n",
    "    plt.plot( columnas, filas, marker='o', color='c' )\n",
    "    plt.colorbar();"
   ]
  },
  {
   "cell_type": "code",
   "execution_count": 15,
   "id": "ef3bd8c2-a95b-46dc-88ac-e8f305a53e15",
   "metadata": {},
   "outputs": [
    {
     "data": {
      "image/png": "[encoded data removed]",
      "text/plain": [
       "<Figure size 500x500 with 2 Axes>"
      ]
     },
     "metadata": {},
     "output_type": "display_data"
    }
   ],
   "source": [
    "mostrar_ruta_aprendida(laberinto, valores_Q, inicio, meta, tamanio)"
   ]
  },
  {
   "cell_type": "code",
   "execution_count": null,
   "id": "1d14aa8a-406a-459a-8dda-1f9457e32f0a",
   "metadata": {},
   "outputs": [],
   "source": []
  },
  {
   "cell_type": "code",
   "execution_count": null,
   "id": "d0107a60-706b-4606-9ea6-391e29787ec5",
   "metadata": {},
   "outputs": [],
   "source": []
  }
 ],
 "metadata": {
  "kernelspec": {
   "display_name": "Python 3 (ipykernel)",
   "language": "python",
   "name": "python3"
  },
  "language_info": {
   "codemirror_mode": {
    "name": "ipython",
    "version": 3
   },
   "file_extension": ".py",
   "mimetype": "text/x-python",
   "name": "python",
   "nbconvert_exporter": "python",
   "pygments_lexer": "ipython3",
   "version": "3.12.9"
  }
 },
 "nbformat": 4,
 "nbformat_minor": 5
}
