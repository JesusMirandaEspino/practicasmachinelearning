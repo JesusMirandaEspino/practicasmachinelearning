{
 "cells": [
  {
   "cell_type": "code",
   "execution_count": 35,
   "id": "22295413-01e2-4193-83c6-c05dd2cfe9ba",
   "metadata": {},
   "outputs": [],
   "source": [
    "import pandas as pd\n",
    "import numpy as np\n",
    "import matplotlib.pyplot as plt\n",
    "import random\n"
   ]
  },
  {
   "cell_type": "code",
   "execution_count": 36,
   "id": "6e784af2-7382-403f-a770-41bdd72f82d3",
   "metadata": {},
   "outputs": [],
   "source": [
    "dimensions = (4,4)\n",
    "estado_inicial = (0,0)\n",
    "estado_objetivo = (3,3)\n",
    "acciones = [(0,-1), (0,1),(-1,0), (1,0)]\n",
    "acciones_simbolos = ['↑', '↓', '←', '→']"
   ]
  },
  {
   "cell_type": "code",
   "execution_count": 37,
   "id": "12ee74ac-ed08-4a19-895e-93d76d910e8e",
   "metadata": {},
   "outputs": [],
   "source": [
    "num_estados = dimensions[0] * dimensions[1]"
   ]
  },
  {
   "cell_type": "code",
   "execution_count": 38,
   "id": "24d7d462-9198-4424-8737-8c47c44dee8f",
   "metadata": {},
   "outputs": [],
   "source": [
    "numeros_acciones = len(acciones)"
   ]
  },
  {
   "cell_type": "code",
   "execution_count": 39,
   "id": "92d43197-e795-442e-8b1a-24290f9f28df",
   "metadata": {},
   "outputs": [
    {
     "data": {
      "text/plain": [
       "array([[0., 0., 0., 0.],\n",
       "       [0., 0., 0., 0.],\n",
       "       [0., 0., 0., 0.],\n",
       "       [0., 0., 0., 0.],\n",
       "       [0., 0., 0., 0.],\n",
       "       [0., 0., 0., 0.],\n",
       "       [0., 0., 0., 0.],\n",
       "       [0., 0., 0., 0.],\n",
       "       [0., 0., 0., 0.],\n",
       "       [0., 0., 0., 0.],\n",
       "       [0., 0., 0., 0.],\n",
       "       [0., 0., 0., 0.],\n",
       "       [0., 0., 0., 0.],\n",
       "       [0., 0., 0., 0.],\n",
       "       [0., 0., 0., 0.],\n",
       "       [0., 0., 0., 0.]])"
      ]
     },
     "execution_count": 39,
     "metadata": {},
     "output_type": "execute_result"
    }
   ],
   "source": [
    "Q = np.zeros((num_estados, numeros_acciones))\n",
    "Q"
   ]
  },
  {
   "cell_type": "code",
   "execution_count": 40,
   "id": "32e8e76b-2bf6-4e02-9fd6-40573575d31b",
   "metadata": {},
   "outputs": [],
   "source": [
    "alpha = 0.1\n",
    "gama = 0.99\n",
    "epsilon = 0.2\n",
    "episodios = 1000"
   ]
  },
  {
   "cell_type": "code",
   "execution_count": 41,
   "id": "1fa2e491-c9af-40af-ae90-707f71322e62",
   "metadata": {},
   "outputs": [],
   "source": [
    "def estado_a_indice(estado):\n",
    "    return estado[0] * dimensions[1] + estado[1]"
   ]
  },
  {
   "cell_type": "code",
   "execution_count": 42,
   "id": "7fb4f0e2-ce7c-400e-8db7-02e0221223fe",
   "metadata": {},
   "outputs": [],
   "source": [
    "def elegir_accion(estado):\n",
    "    if random.uniform(0,1) < epsilon:\n",
    "        return random.randint(0, numeros_acciones - 1)\n",
    "    else: \n",
    "     return np.argmax(Q[estado_a_indice(estado)] )"
   ]
  },
  {
   "cell_type": "code",
   "execution_count": 43,
   "id": "8d03e5dd-8586-4001-8d13-431347c3df0e",
   "metadata": {},
   "outputs": [],
   "source": [
    "def aplicar_accion(estado, accion_idx):\n",
    "    accion = acciones[accion_idx]\n",
    "    nuevo_estado = tuple(np.add( estado, accion ) % np.array( dimensions ) )\n",
    "    recompensa = 0\n",
    "\n",
    "    if nuevo_estado == estado_objetivo:\n",
    "        recomensa = 1\n",
    "    else:\n",
    "        recompensa = -1\n",
    "\n",
    "    return nuevo_estado, recompensa, nuevo_estado == estado_objetivo\n",
    "\n",
    "\n",
    "    "
   ]
  },
  {
   "cell_type": "code",
   "execution_count": 44,
   "id": "0f202242-e18a-4892-a978-8a75128e35c2",
   "metadata": {},
   "outputs": [],
   "source": [
    "for episodio in range(episodios):\n",
    "    estado = estado_inicial\n",
    "    accion_idx = elegir_accion(estado)\n",
    "    terminado = False\n",
    "    while not terminado:\n",
    "\n",
    "        nuevo_estado, recompensa, terminado = aplicar_accion(estado, accion_idx)\n",
    "\n",
    "\n",
    "        nueva_accion_idx = elegir_accion(nuevo_estado)\n",
    "\n",
    "        indice = estado_a_indice(nuevo_estado)\n",
    "        \n",
    "        Q[ indice, accion_idx] += alpha * ( recompensa + gama * Q[ estado_a_indice(nuevo_estado),  nueva_accion_idx] - Q[indice, accion_idx] )\n",
    "        \n",
    "        estado, accion_idx = nuevo_estado, nueva_accion_idx"
   ]
  },
  {
   "cell_type": "code",
   "execution_count": 46,
   "id": "a45db6e6-4b1c-4abd-b95e-3289c6c79e32",
   "metadata": {},
   "outputs": [
    {
     "data": {
      "text/plain": [
       "array([['', '', '', ''],\n",
       "       ['', '', '', ''],\n",
       "       ['', '', '', ''],\n",
       "       ['', '', '', '']], dtype='<U2')"
      ]
     },
     "execution_count": 46,
     "metadata": {},
     "output_type": "execute_result"
    }
   ],
   "source": [
    "politica_de_simbolos = np.empty(dimensions, dtype='<U2') \n",
    "politica_de_simbolos"
   ]
  },
  {
   "cell_type": "code",
   "execution_count": 47,
   "id": "04138f1f-c0a4-4764-8d13-932391da435c",
   "metadata": {},
   "outputs": [
    {
     "data": {
      "text/plain": [
       "array([['→', '↑', '→', '→'],\n",
       "       ['↑', '→', '↓', '→'],\n",
       "       ['←', '↓', '←', '←'],\n",
       "       ['↓', '←', '↑', '↑']], dtype='<U2')"
      ]
     },
     "execution_count": 47,
     "metadata": {},
     "output_type": "execute_result"
    }
   ],
   "source": [
    "for i in range( dimensions[0]):\n",
    "    for j in range(dimensions[1] ):\n",
    "        estado = (i,j)\n",
    "        mejor_accion = np.argmax(Q[estado_a_indice(estado)])\n",
    "        politica_de_simbolos[i,j] = acciones_simbolos[mejor_accion]\n",
    "politica_de_simbolos"
   ]
  },
  {
   "cell_type": "code",
   "execution_count": null,
   "id": "4eee853e-729f-434c-9908-c2390e1d458d",
   "metadata": {},
   "outputs": [],
   "source": []
  }
 ],
 "metadata": {
  "kernelspec": {
   "display_name": "Python 3 (ipykernel)",
   "language": "python",
   "name": "python3"
  },
  "language_info": {
   "codemirror_mode": {
    "name": "ipython",
    "version": 3
   },
   "file_extension": ".py",
   "mimetype": "text/x-python",
   "name": "python",
   "nbconvert_exporter": "python",
   "pygments_lexer": "ipython3",
   "version": "3.12.11"
  }
 },
 "nbformat": 4,
 "nbformat_minor": 5
}
