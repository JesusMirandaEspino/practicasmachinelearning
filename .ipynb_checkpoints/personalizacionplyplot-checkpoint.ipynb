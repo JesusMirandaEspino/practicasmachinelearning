{
 "cells": [
  {
   "cell_type": "code",
   "execution_count": 3,
   "id": "ac82fa6d-9ccf-49d7-a019-3c23860a489f",
   "metadata": {},
   "outputs": [],
   "source": [
    "import plotly.graph_objects as go"
   ]
  },
  {
   "cell_type": "code",
   "execution_count": 4,
   "id": "c1ef8c74-3c26-46a8-aa09-1297975b66e7",
   "metadata": {},
   "outputs": [],
   "source": [
    "fig = go.Figure()\n",
    "fig.add_trace(go.Bar( x=[1,2,3,4,5], y=[5,3,12,34,21], name='barras'))\n",
    "fig.add_trace(go.Scatter( x=[1,2,3,4,5], y=[11,12,13,14,15], mode='lines', name='lineas' ) )\n",
    "layout = go.Layout(title='Grafico Personalizado', xaxis=dict(title='Ejes de las X'), yaxis=dict(title='Ejes de las Y'))"
   ]
  },
  {
   "cell_type": "code",
   "execution_count": null,
   "id": "0b77a390-040f-417b-bceb-4a341cd9ed50",
   "metadata": {},
   "outputs": [],
   "source": []
  }
 ],
 "metadata": {
  "kernelspec": {
   "display_name": "Python 3 (ipykernel)",
   "language": "python",
   "name": "python3"
  },
  "language_info": {
   "codemirror_mode": {
    "name": "ipython",
    "version": 3
   },
   "file_extension": ".py",
   "mimetype": "text/x-python",
   "name": "python",
   "nbconvert_exporter": "python",
   "pygments_lexer": "ipython3",
   "version": "3.12.9"
  }
 },
 "nbformat": 4,
 "nbformat_minor": 5
}
