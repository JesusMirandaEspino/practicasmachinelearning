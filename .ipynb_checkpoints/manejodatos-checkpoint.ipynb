{
 "cells": [
  {
   "cell_type": "code",
   "execution_count": 31,
   "id": "b2384788-b962-4a73-a520-ae5ce6a3e5ab",
   "metadata": {},
   "outputs": [],
   "source": [
    "from sklearn.model_selection import train_test_split\n",
    "from sklearn.datasets import load_iris\n",
    "from sklearn.feature_selection import SelectKBest, SelectFromModel, chi2\n",
    "from sklearn.ensemble import RandomForestClassifier"
   ]
  },
  {
   "cell_type": "code",
   "execution_count": 32,
   "id": "1fa0a497-04f1-41ca-8035-9c3bf2029dc0",
   "metadata": {},
   "outputs": [],
   "source": [
    "iris = load_iris()\n",
    "X = iris.data\n",
    "y = iris.target"
   ]
  },
  {
   "cell_type": "code",
   "execution_count": 33,
   "id": "6deccfe0-981d-493f-ab02-5a39e8380a50",
   "metadata": {},
   "outputs": [],
   "source": [
    "X_entrena, X_prueba, y_entrena, y_prueba = train_test_split(X,y, test_size=0.2, random_state=42)"
   ]
  },
  {
   "cell_type": "code",
   "execution_count": 34,
   "id": "592f92ed-9738-4744-b759-71dd99eeb69e",
   "metadata": {},
   "outputs": [
    {
     "data": {
      "text/plain": [
       "120"
      ]
     },
     "execution_count": 34,
     "metadata": {},
     "output_type": "execute_result"
    }
   ],
   "source": [
    "len(X_entrena) "
   ]
  },
  {
   "cell_type": "code",
   "execution_count": 35,
   "id": "ee56244f-7a4e-4678-82dd-108ceb8898ad",
   "metadata": {},
   "outputs": [
    {
     "data": {
      "text/plain": [
       "150"
      ]
     },
     "execution_count": 35,
     "metadata": {},
     "output_type": "execute_result"
    }
   ],
   "source": [
    "len(X)"
   ]
  },
  {
   "cell_type": "code",
   "execution_count": 36,
   "id": "2cf68f09-c309-453a-9286-6e48d093fd80",
   "metadata": {},
   "outputs": [
    {
     "data": {
      "text/plain": [
       "30"
      ]
     },
     "execution_count": 36,
     "metadata": {},
     "output_type": "execute_result"
    }
   ],
   "source": [
    "len(X_prueba) "
   ]
  },
  {
   "cell_type": "code",
   "execution_count": 37,
   "id": "c05466ce-c146-46dc-b345-6a65754d1d0c",
   "metadata": {},
   "outputs": [],
   "source": [
    "selector =  SelectKBest(chi2, k=3)"
   ]
  },
  {
   "cell_type": "code",
   "execution_count": 38,
   "id": "3f8a644d-2acc-4c3d-b438-f638700b35d6",
   "metadata": {},
   "outputs": [],
   "source": [
    "X_nuevo = selector.fit_transform(X_entrena, y_entrena)"
   ]
  },
  {
   "cell_type": "code",
   "execution_count": 39,
   "id": "756b8755-74ef-46f2-9316-292bd25c98b0",
   "metadata": {},
   "outputs": [
    {
     "data": {
      "text/plain": [
       "array([[4.6, 1. , 0.2],\n",
       "       [5.7, 1.5, 0.4],\n",
       "       [6.7, 4.4, 1.4],\n",
       "       [4.8, 1.6, 0.2],\n",
       "       [4.4, 1.3, 0.2]])"
      ]
     },
     "execution_count": 39,
     "metadata": {},
     "output_type": "execute_result"
    }
   ],
   "source": [
    "X_nuevo[:5]\n"
   ]
  },
  {
   "cell_type": "code",
   "execution_count": 40,
   "id": "699823f6-2e60-4ca7-b8a5-9aa451d89df5",
   "metadata": {},
   "outputs": [
    {
     "data": {
      "text/plain": [
       "array([[4.6, 3.6, 1. , 0.2],\n",
       "       [5.7, 4.4, 1.5, 0.4],\n",
       "       [6.7, 3.1, 4.4, 1.4],\n",
       "       [4.8, 3.4, 1.6, 0.2],\n",
       "       [4.4, 3.2, 1.3, 0.2]])"
      ]
     },
     "execution_count": 40,
     "metadata": {},
     "output_type": "execute_result"
    }
   ],
   "source": [
    "X_entrena[:5]"
   ]
  },
  {
   "cell_type": "code",
   "execution_count": 42,
   "id": "6c94d619-aadc-4e05-8383-f98a55a8e1b9",
   "metadata": {},
   "outputs": [],
   "source": [
    "modelo = RandomForestClassifier(n_estimators=100, random_state=42)"
   ]
  },
  {
   "cell_type": "code",
   "execution_count": 43,
   "id": "eab042ca-a9c5-4311-9e28-f2e0aa1c60d9",
   "metadata": {},
   "outputs": [],
   "source": [
    "selectorModel = SelectFromModel(modelo)"
   ]
  },
  {
   "cell_type": "code",
   "execution_count": 44,
   "id": "b35928df-72bb-4ccf-888a-c808437eb354",
   "metadata": {},
   "outputs": [],
   "source": [
    "X_importante = selectorModel.fit_transform(X_entrena, y_entrena)"
   ]
  },
  {
   "cell_type": "code",
   "execution_count": 45,
   "id": "186db807-425d-4560-bbac-500a25c743ca",
   "metadata": {},
   "outputs": [
    {
     "data": {
      "text/plain": [
       "array([[1. , 0.2],\n",
       "       [1.5, 0.4],\n",
       "       [4.4, 1.4],\n",
       "       [1.6, 0.2],\n",
       "       [1.3, 0.2]])"
      ]
     },
     "execution_count": 45,
     "metadata": {},
     "output_type": "execute_result"
    }
   ],
   "source": [
    "X_importante[:5]"
   ]
  },
  {
   "cell_type": "code",
   "execution_count": null,
   "id": "e7ab5b0d-009a-4a0a-8ff7-e3f608ce8a97",
   "metadata": {},
   "outputs": [],
   "source": []
  }
 ],
 "metadata": {
  "kernelspec": {
   "display_name": "Python 3 (ipykernel)",
   "language": "python",
   "name": "python3"
  },
  "language_info": {
   "codemirror_mode": {
    "name": "ipython",
    "version": 3
   },
   "file_extension": ".py",
   "mimetype": "text/x-python",
   "name": "python",
   "nbconvert_exporter": "python",
   "pygments_lexer": "ipython3",
   "version": "3.12.9"
  }
 },
 "nbformat": 4,
 "nbformat_minor": 5
}
