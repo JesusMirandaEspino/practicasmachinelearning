{
 "cells": [
  {
   "cell_type": "code",
   "execution_count": 89,
   "id": "e7a8b5a5-1137-4737-b494-c609b3a979d0",
   "metadata": {},
   "outputs": [],
   "source": [
    "import pandas as pd\n",
    "import numpy as np\n",
    "import uuid\n",
    "import hashlib"
   ]
  },
  {
   "cell_type": "code",
   "execution_count": 90,
   "id": "97bfb310-b35d-49bb-8164-c0dd51093401",
   "metadata": {},
   "outputs": [],
   "source": [
    "data = {\n",
    "    'nombre': ['Oscar', 'Alberto', 'Allan', 'Mauricio', 'Angel'],\n",
    "    'email': ['Oscar@mail.com', 'Alberto@mail.com', 'Allan@mail.com', 'Mauricio@mail.com', 'Angel@mail.com'],\n",
    "    'edad': [22, 34, 17, 48, 61],\n",
    "    'ubicacion': ['Ciudad A', 'Ciudad B', 'Ciudad C', 'Ciudad D', 'Ciudad E'],\n",
    "    'salario': [54892.06, 33952.23, 76071.78, 51049.47, 62080.65],\n",
    "    'banco': ['Banco 1', 'Banco 2', 'Banco 1', 'Banco 3', 'Banco 3']\n",
    "}\n"
   ]
  },
  {
   "cell_type": "code",
   "execution_count": 91,
   "id": "719f8a8b-c296-4ecf-9c15-c7829d1ab334",
   "metadata": {},
   "outputs": [
    {
     "data": {
      "text/html": [
       "<div>\n",
       "<style scoped>\n",
       "    .dataframe tbody tr th:only-of-type {\n",
       "        vertical-align: middle;\n",
       "    }\n",
       "\n",
       "    .dataframe tbody tr th {\n",
       "        vertical-align: top;\n",
       "    }\n",
       "\n",
       "    .dataframe thead th {\n",
       "        text-align: right;\n",
       "    }\n",
       "</style>\n",
       "<table border=\"1\" class=\"dataframe\">\n",
       "  <thead>\n",
       "    <tr style=\"text-align: right;\">\n",
       "      <th></th>\n",
       "      <th>nombre</th>\n",
       "      <th>email</th>\n",
       "      <th>edad</th>\n",
       "      <th>ubicacion</th>\n",
       "      <th>salario</th>\n",
       "      <th>banco</th>\n",
       "    </tr>\n",
       "  </thead>\n",
       "  <tbody>\n",
       "    <tr>\n",
       "      <th>0</th>\n",
       "      <td>Oscar</td>\n",
       "      <td>Oscar@mail.com</td>\n",
       "      <td>22</td>\n",
       "      <td>Ciudad A</td>\n",
       "      <td>54892.06</td>\n",
       "      <td>Banco 1</td>\n",
       "    </tr>\n",
       "    <tr>\n",
       "      <th>1</th>\n",
       "      <td>Alberto</td>\n",
       "      <td>Alberto@mail.com</td>\n",
       "      <td>34</td>\n",
       "      <td>Ciudad B</td>\n",
       "      <td>33952.23</td>\n",
       "      <td>Banco 2</td>\n",
       "    </tr>\n",
       "    <tr>\n",
       "      <th>2</th>\n",
       "      <td>Allan</td>\n",
       "      <td>Allan@mail.com</td>\n",
       "      <td>17</td>\n",
       "      <td>Ciudad C</td>\n",
       "      <td>76071.78</td>\n",
       "      <td>Banco 1</td>\n",
       "    </tr>\n",
       "    <tr>\n",
       "      <th>3</th>\n",
       "      <td>Mauricio</td>\n",
       "      <td>Mauricio@mail.com</td>\n",
       "      <td>48</td>\n",
       "      <td>Ciudad D</td>\n",
       "      <td>51049.47</td>\n",
       "      <td>Banco 3</td>\n",
       "    </tr>\n",
       "    <tr>\n",
       "      <th>4</th>\n",
       "      <td>Angel</td>\n",
       "      <td>Angel@mail.com</td>\n",
       "      <td>61</td>\n",
       "      <td>Ciudad E</td>\n",
       "      <td>62080.65</td>\n",
       "      <td>Banco 3</td>\n",
       "    </tr>\n",
       "  </tbody>\n",
       "</table>\n",
       "</div>"
      ],
      "text/plain": [
       "     nombre              email  edad ubicacion   salario    banco\n",
       "0     Oscar     Oscar@mail.com    22  Ciudad A  54892.06  Banco 1\n",
       "1   Alberto   Alberto@mail.com    34  Ciudad B  33952.23  Banco 2\n",
       "2     Allan     Allan@mail.com    17  Ciudad C  76071.78  Banco 1\n",
       "3  Mauricio  Mauricio@mail.com    48  Ciudad D  51049.47  Banco 3\n",
       "4     Angel     Angel@mail.com    61  Ciudad E  62080.65  Banco 3"
      ]
     },
     "execution_count": 91,
     "metadata": {},
     "output_type": "execute_result"
    }
   ],
   "source": [
    "datos = pd.DataFrame(data)\n",
    "datos"
   ]
  },
  {
   "cell_type": "code",
   "execution_count": 92,
   "id": "d91551a6-aa4d-4d86-800b-42bd43449d9c",
   "metadata": {},
   "outputs": [
    {
     "data": {
      "text/html": [
       "<div>\n",
       "<style scoped>\n",
       "    .dataframe tbody tr th:only-of-type {\n",
       "        vertical-align: middle;\n",
       "    }\n",
       "\n",
       "    .dataframe tbody tr th {\n",
       "        vertical-align: top;\n",
       "    }\n",
       "\n",
       "    .dataframe thead th {\n",
       "        text-align: right;\n",
       "    }\n",
       "</style>\n",
       "<table border=\"1\" class=\"dataframe\">\n",
       "  <thead>\n",
       "    <tr style=\"text-align: right;\">\n",
       "      <th></th>\n",
       "      <th>edad</th>\n",
       "      <th>ubicacion</th>\n",
       "      <th>salario</th>\n",
       "      <th>banco</th>\n",
       "    </tr>\n",
       "  </thead>\n",
       "  <tbody>\n",
       "    <tr>\n",
       "      <th>0</th>\n",
       "      <td>22</td>\n",
       "      <td>Ciudad A</td>\n",
       "      <td>54892.06</td>\n",
       "      <td>Banco 1</td>\n",
       "    </tr>\n",
       "    <tr>\n",
       "      <th>1</th>\n",
       "      <td>34</td>\n",
       "      <td>Ciudad B</td>\n",
       "      <td>33952.23</td>\n",
       "      <td>Banco 2</td>\n",
       "    </tr>\n",
       "    <tr>\n",
       "      <th>2</th>\n",
       "      <td>17</td>\n",
       "      <td>Ciudad C</td>\n",
       "      <td>76071.78</td>\n",
       "      <td>Banco 1</td>\n",
       "    </tr>\n",
       "    <tr>\n",
       "      <th>3</th>\n",
       "      <td>48</td>\n",
       "      <td>Ciudad D</td>\n",
       "      <td>51049.47</td>\n",
       "      <td>Banco 3</td>\n",
       "    </tr>\n",
       "    <tr>\n",
       "      <th>4</th>\n",
       "      <td>61</td>\n",
       "      <td>Ciudad E</td>\n",
       "      <td>62080.65</td>\n",
       "      <td>Banco 3</td>\n",
       "    </tr>\n",
       "  </tbody>\n",
       "</table>\n",
       "</div>"
      ],
      "text/plain": [
       "   edad ubicacion   salario    banco\n",
       "0    22  Ciudad A  54892.06  Banco 1\n",
       "1    34  Ciudad B  33952.23  Banco 2\n",
       "2    17  Ciudad C  76071.78  Banco 1\n",
       "3    48  Ciudad D  51049.47  Banco 3\n",
       "4    61  Ciudad E  62080.65  Banco 3"
      ]
     },
     "execution_count": 92,
     "metadata": {},
     "output_type": "execute_result"
    }
   ],
   "source": [
    "datos.drop(['nombre', 'email'], axis=1, inplace=True)\n",
    "datos"
   ]
  },
  {
   "cell_type": "code",
   "execution_count": 93,
   "id": "092e31f9-7853-4c35-8027-079fe173c16f",
   "metadata": {},
   "outputs": [
    {
     "data": {
      "text/html": [
       "<div>\n",
       "<style scoped>\n",
       "    .dataframe tbody tr th:only-of-type {\n",
       "        vertical-align: middle;\n",
       "    }\n",
       "\n",
       "    .dataframe tbody tr th {\n",
       "        vertical-align: top;\n",
       "    }\n",
       "\n",
       "    .dataframe thead th {\n",
       "        text-align: right;\n",
       "    }\n",
       "</style>\n",
       "<table border=\"1\" class=\"dataframe\">\n",
       "  <thead>\n",
       "    <tr style=\"text-align: right;\">\n",
       "      <th></th>\n",
       "      <th>edad</th>\n",
       "      <th>ubicacion</th>\n",
       "      <th>salario</th>\n",
       "      <th>banco</th>\n",
       "    </tr>\n",
       "  </thead>\n",
       "  <tbody>\n",
       "    <tr>\n",
       "      <th>0</th>\n",
       "      <td>20</td>\n",
       "      <td>Ciudad A</td>\n",
       "      <td>54892.06</td>\n",
       "      <td>Banco 1</td>\n",
       "    </tr>\n",
       "    <tr>\n",
       "      <th>1</th>\n",
       "      <td>30</td>\n",
       "      <td>Ciudad B</td>\n",
       "      <td>33952.23</td>\n",
       "      <td>Banco 2</td>\n",
       "    </tr>\n",
       "    <tr>\n",
       "      <th>2</th>\n",
       "      <td>10</td>\n",
       "      <td>Ciudad C</td>\n",
       "      <td>76071.78</td>\n",
       "      <td>Banco 1</td>\n",
       "    </tr>\n",
       "    <tr>\n",
       "      <th>3</th>\n",
       "      <td>40</td>\n",
       "      <td>Ciudad D</td>\n",
       "      <td>51049.47</td>\n",
       "      <td>Banco 3</td>\n",
       "    </tr>\n",
       "    <tr>\n",
       "      <th>4</th>\n",
       "      <td>60</td>\n",
       "      <td>Ciudad E</td>\n",
       "      <td>62080.65</td>\n",
       "      <td>Banco 3</td>\n",
       "    </tr>\n",
       "  </tbody>\n",
       "</table>\n",
       "</div>"
      ],
      "text/plain": [
       "   edad ubicacion   salario    banco\n",
       "0    20  Ciudad A  54892.06  Banco 1\n",
       "1    30  Ciudad B  33952.23  Banco 2\n",
       "2    10  Ciudad C  76071.78  Banco 1\n",
       "3    40  Ciudad D  51049.47  Banco 3\n",
       "4    60  Ciudad E  62080.65  Banco 3"
      ]
     },
     "execution_count": 93,
     "metadata": {},
     "output_type": "execute_result"
    }
   ],
   "source": [
    "datos['edad'] = (datos['edad'] // 10 ) * 10\n",
    "datos"
   ]
  },
  {
   "cell_type": "code",
   "execution_count": 94,
   "id": "412faed8-5479-4379-bba3-2456051123a1",
   "metadata": {},
   "outputs": [
    {
     "data": {
      "text/plain": [
       "array([  65.56546522, -100.89706545,   35.35249898,  -50.55108908,\n",
       "        -83.09114641])"
      ]
     },
     "execution_count": 94,
     "metadata": {},
     "output_type": "execute_result"
    }
   ],
   "source": [
    "ruido = np.random.normal(0, 100, size=datos['salario'].shape  )\n",
    "ruido"
   ]
  },
  {
   "cell_type": "code",
   "execution_count": 95,
   "id": "14eec037-ea80-4fc4-9e39-025ed06f420b",
   "metadata": {},
   "outputs": [
    {
     "data": {
      "text/html": [
       "<div>\n",
       "<style scoped>\n",
       "    .dataframe tbody tr th:only-of-type {\n",
       "        vertical-align: middle;\n",
       "    }\n",
       "\n",
       "    .dataframe tbody tr th {\n",
       "        vertical-align: top;\n",
       "    }\n",
       "\n",
       "    .dataframe thead th {\n",
       "        text-align: right;\n",
       "    }\n",
       "</style>\n",
       "<table border=\"1\" class=\"dataframe\">\n",
       "  <thead>\n",
       "    <tr style=\"text-align: right;\">\n",
       "      <th></th>\n",
       "      <th>edad</th>\n",
       "      <th>ubicacion</th>\n",
       "      <th>salario</th>\n",
       "      <th>banco</th>\n",
       "    </tr>\n",
       "  </thead>\n",
       "  <tbody>\n",
       "    <tr>\n",
       "      <th>0</th>\n",
       "      <td>20</td>\n",
       "      <td>Ciudad A</td>\n",
       "      <td>54957.625465</td>\n",
       "      <td>Banco 1</td>\n",
       "    </tr>\n",
       "    <tr>\n",
       "      <th>1</th>\n",
       "      <td>30</td>\n",
       "      <td>Ciudad B</td>\n",
       "      <td>33851.332935</td>\n",
       "      <td>Banco 2</td>\n",
       "    </tr>\n",
       "    <tr>\n",
       "      <th>2</th>\n",
       "      <td>10</td>\n",
       "      <td>Ciudad C</td>\n",
       "      <td>76107.132499</td>\n",
       "      <td>Banco 1</td>\n",
       "    </tr>\n",
       "    <tr>\n",
       "      <th>3</th>\n",
       "      <td>40</td>\n",
       "      <td>Ciudad D</td>\n",
       "      <td>50998.918911</td>\n",
       "      <td>Banco 3</td>\n",
       "    </tr>\n",
       "    <tr>\n",
       "      <th>4</th>\n",
       "      <td>60</td>\n",
       "      <td>Ciudad E</td>\n",
       "      <td>61997.558854</td>\n",
       "      <td>Banco 3</td>\n",
       "    </tr>\n",
       "  </tbody>\n",
       "</table>\n",
       "</div>"
      ],
      "text/plain": [
       "   edad ubicacion       salario    banco\n",
       "0    20  Ciudad A  54957.625465  Banco 1\n",
       "1    30  Ciudad B  33851.332935  Banco 2\n",
       "2    10  Ciudad C  76107.132499  Banco 1\n",
       "3    40  Ciudad D  50998.918911  Banco 3\n",
       "4    60  Ciudad E  61997.558854  Banco 3"
      ]
     },
     "execution_count": 95,
     "metadata": {},
     "output_type": "execute_result"
    }
   ],
   "source": [
    "datos['salario'] += ruido\n",
    "datos"
   ]
  },
  {
   "cell_type": "code",
   "execution_count": 96,
   "id": "ce335ac7-948e-49d9-92aa-e50f6cd0e56f",
   "metadata": {},
   "outputs": [
    {
     "data": {
      "text/html": [
       "<div>\n",
       "<style scoped>\n",
       "    .dataframe tbody tr th:only-of-type {\n",
       "        vertical-align: middle;\n",
       "    }\n",
       "\n",
       "    .dataframe tbody tr th {\n",
       "        vertical-align: top;\n",
       "    }\n",
       "\n",
       "    .dataframe thead th {\n",
       "        text-align: right;\n",
       "    }\n",
       "</style>\n",
       "<table border=\"1\" class=\"dataframe\">\n",
       "  <thead>\n",
       "    <tr style=\"text-align: right;\">\n",
       "      <th></th>\n",
       "      <th>edad</th>\n",
       "      <th>ubicacion</th>\n",
       "      <th>salario</th>\n",
       "      <th>banco</th>\n",
       "    </tr>\n",
       "  </thead>\n",
       "  <tbody>\n",
       "    <tr>\n",
       "      <th>0</th>\n",
       "      <td>20</td>\n",
       "      <td>Ciudad A</td>\n",
       "      <td>54957.625465</td>\n",
       "      <td>Banco 1</td>\n",
       "    </tr>\n",
       "    <tr>\n",
       "      <th>1</th>\n",
       "      <td>30</td>\n",
       "      <td>Ciudad B</td>\n",
       "      <td>33851.332935</td>\n",
       "      <td>Banco 3</td>\n",
       "    </tr>\n",
       "    <tr>\n",
       "      <th>2</th>\n",
       "      <td>10</td>\n",
       "      <td>Ciudad C</td>\n",
       "      <td>76107.132499</td>\n",
       "      <td>Banco 1</td>\n",
       "    </tr>\n",
       "    <tr>\n",
       "      <th>3</th>\n",
       "      <td>40</td>\n",
       "      <td>Ciudad D</td>\n",
       "      <td>50998.918911</td>\n",
       "      <td>Banco 2</td>\n",
       "    </tr>\n",
       "    <tr>\n",
       "      <th>4</th>\n",
       "      <td>60</td>\n",
       "      <td>Ciudad E</td>\n",
       "      <td>61997.558854</td>\n",
       "      <td>Banco 3</td>\n",
       "    </tr>\n",
       "  </tbody>\n",
       "</table>\n",
       "</div>"
      ],
      "text/plain": [
       "   edad ubicacion       salario    banco\n",
       "0    20  Ciudad A  54957.625465  Banco 1\n",
       "1    30  Ciudad B  33851.332935  Banco 3\n",
       "2    10  Ciudad C  76107.132499  Banco 1\n",
       "3    40  Ciudad D  50998.918911  Banco 2\n",
       "4    60  Ciudad E  61997.558854  Banco 3"
      ]
     },
     "execution_count": 96,
     "metadata": {},
     "output_type": "execute_result"
    }
   ],
   "source": [
    "datos['banco'] = np.random.permutation(datos['banco'] )\n",
    "datos"
   ]
  },
  {
   "cell_type": "code",
   "execution_count": 97,
   "id": "3b717a73-20d0-4eba-946d-b63f631b39a8",
   "metadata": {},
   "outputs": [
    {
     "data": {
      "text/html": [
       "<div>\n",
       "<style scoped>\n",
       "    .dataframe tbody tr th:only-of-type {\n",
       "        vertical-align: middle;\n",
       "    }\n",
       "\n",
       "    .dataframe tbody tr th {\n",
       "        vertical-align: top;\n",
       "    }\n",
       "\n",
       "    .dataframe thead th {\n",
       "        text-align: right;\n",
       "    }\n",
       "</style>\n",
       "<table border=\"1\" class=\"dataframe\">\n",
       "  <thead>\n",
       "    <tr style=\"text-align: right;\">\n",
       "      <th></th>\n",
       "      <th>nombre</th>\n",
       "      <th>correo</th>\n",
       "      <th>ubicacion</th>\n",
       "    </tr>\n",
       "  </thead>\n",
       "  <tbody>\n",
       "    <tr>\n",
       "      <th>0</th>\n",
       "      <td>Juan Pérez</td>\n",
       "      <td>anon@example.com</td>\n",
       "      <td>Ciudad A</td>\n",
       "    </tr>\n",
       "    <tr>\n",
       "      <th>1</th>\n",
       "      <td>Ana López</td>\n",
       "      <td>anon@example.com</td>\n",
       "      <td>Ciudad B</td>\n",
       "    </tr>\n",
       "    <tr>\n",
       "      <th>2</th>\n",
       "      <td>María García</td>\n",
       "      <td>anon@example.com</td>\n",
       "      <td>Ciudad C</td>\n",
       "    </tr>\n",
       "    <tr>\n",
       "      <th>3</th>\n",
       "      <td>Luis Martínez</td>\n",
       "      <td>anon@example.com</td>\n",
       "      <td>Ciudad D</td>\n",
       "    </tr>\n",
       "    <tr>\n",
       "      <th>4</th>\n",
       "      <td>Carmen Rodríguez</td>\n",
       "      <td>anon@example.com</td>\n",
       "      <td>Ciudad E</td>\n",
       "    </tr>\n",
       "  </tbody>\n",
       "</table>\n",
       "</div>"
      ],
      "text/plain": [
       "             nombre            correo ubicacion\n",
       "0        Juan Pérez  anon@example.com  Ciudad A\n",
       "1         Ana López  anon@example.com  Ciudad B\n",
       "2      María García  anon@example.com  Ciudad C\n",
       "3     Luis Martínez  anon@example.com  Ciudad D\n",
       "4  Carmen Rodríguez  anon@example.com  Ciudad E"
      ]
     },
     "execution_count": 97,
     "metadata": {},
     "output_type": "execute_result"
    }
   ],
   "source": [
    "# Datos iniciales\n",
    "data = {\n",
    "    'nombre': ['Juan Pérez', 'Ana López', 'María García', 'Luis Martínez', 'Carmen Rodríguez'],\n",
    "    'correo': ['juan@example.com', 'ana@example.com', 'maria@example.com', 'luis@example.com', 'carmen@example.com'],\n",
    "    'ubicacion': ['Ciudad A', 'Ciudad B', 'Ciudad C', 'Ciudad D', 'Ciudad E']\n",
    "}\n",
    "\n",
    "# Creación del DataFrame\n",
    "df = pd.DataFrame(data)\n",
    "\n",
    "\n",
    "df['correo'] = 'anon@example.com'\n",
    "df"
   ]
  },
  {
   "cell_type": "code",
   "execution_count": 98,
   "id": "3c3dfde7-d959-4780-bad4-b26670364a17",
   "metadata": {},
   "outputs": [],
   "source": [
    "data = {\n",
    "    'nombre': ['Juan Pérez', 'Ana López', 'María García', 'Luis Martínez', 'Carmen Rodríguez'],\n",
    "    'correo': ['juan@example.com', 'ana@example.com', 'maria@example.com', 'luis@example.com', 'carmen@example.com'],\n",
    "    'ubicacion': ['Ciudad A', 'Ciudad B', 'Ciudad C', 'Ciudad D', 'Ciudad E']\n",
    "}\n",
    "\n",
    "\n",
    "df = pd.DataFrame(data)"
   ]
  },
  {
   "cell_type": "code",
   "execution_count": 99,
   "id": "1e6a45bb-5131-41b5-9d94-228dedbbe008",
   "metadata": {},
   "outputs": [
    {
     "data": {
      "text/html": [
       "<div>\n",
       "<style scoped>\n",
       "    .dataframe tbody tr th:only-of-type {\n",
       "        vertical-align: middle;\n",
       "    }\n",
       "\n",
       "    .dataframe tbody tr th {\n",
       "        vertical-align: top;\n",
       "    }\n",
       "\n",
       "    .dataframe thead th {\n",
       "        text-align: right;\n",
       "    }\n",
       "</style>\n",
       "<table border=\"1\" class=\"dataframe\">\n",
       "  <thead>\n",
       "    <tr style=\"text-align: right;\">\n",
       "      <th></th>\n",
       "      <th>nombre</th>\n",
       "      <th>correo</th>\n",
       "      <th>ubicacion</th>\n",
       "    </tr>\n",
       "  </thead>\n",
       "  <tbody>\n",
       "    <tr>\n",
       "      <th>0</th>\n",
       "      <td>Juan Pérez</td>\n",
       "      <td>juan@example.com</td>\n",
       "      <td>Ciudad A</td>\n",
       "    </tr>\n",
       "    <tr>\n",
       "      <th>1</th>\n",
       "      <td>Ana López</td>\n",
       "      <td>ana@example.com</td>\n",
       "      <td>Ciudad B</td>\n",
       "    </tr>\n",
       "    <tr>\n",
       "      <th>2</th>\n",
       "      <td>María García</td>\n",
       "      <td>maria@example.com</td>\n",
       "      <td>Ciudad C</td>\n",
       "    </tr>\n",
       "    <tr>\n",
       "      <th>3</th>\n",
       "      <td>Luis Martínez</td>\n",
       "      <td>luis@example.com</td>\n",
       "      <td>Ciudad D</td>\n",
       "    </tr>\n",
       "    <tr>\n",
       "      <th>4</th>\n",
       "      <td>Carmen Rodríguez</td>\n",
       "      <td>carmen@example.com</td>\n",
       "      <td>Ciudad E</td>\n",
       "    </tr>\n",
       "  </tbody>\n",
       "</table>\n",
       "</div>"
      ],
      "text/plain": [
       "             nombre              correo ubicacion\n",
       "0        Juan Pérez    juan@example.com  Ciudad A\n",
       "1         Ana López     ana@example.com  Ciudad B\n",
       "2      María García   maria@example.com  Ciudad C\n",
       "3     Luis Martínez    luis@example.com  Ciudad D\n",
       "4  Carmen Rodríguez  carmen@example.com  Ciudad E"
      ]
     },
     "execution_count": 99,
     "metadata": {},
     "output_type": "execute_result"
    }
   ],
   "source": [
    "df"
   ]
  },
  {
   "cell_type": "code",
   "execution_count": 100,
   "id": "284e155c-eaf3-40cb-b74f-b4ce5219dc95",
   "metadata": {},
   "outputs": [],
   "source": [
    "id_psuedo = []"
   ]
  },
  {
   "cell_type": "code",
   "execution_count": 101,
   "id": "55cd7d0f-ffa2-4268-a613-5a581e9ddb71",
   "metadata": {},
   "outputs": [
    {
     "data": {
      "text/plain": [
       "[UUID('38dd36d5-337b-44c6-9f8e-14519e366131'),\n",
       " UUID('6d640c63-d7c8-4bac-ae06-225a6cad044f'),\n",
       " UUID('c3c45db4-4c61-40d1-8e4f-6f4e655bf564'),\n",
       " UUID('c60c8a4f-47a1-4d1b-85b3-62aba91749e3'),\n",
       " UUID('036705b2-59f0-4bb7-82b4-48e7bae164dd')]"
      ]
     },
     "execution_count": 101,
     "metadata": {},
     "output_type": "execute_result"
    }
   ],
   "source": [
    "for n in range( len(df) ):\n",
    "    id_psuedo.append( uuid.uuid4() )\n",
    "id_psuedo"
   ]
  },
  {
   "cell_type": "code",
   "execution_count": 102,
   "id": "4723b238-c9f7-4e06-bba8-01bf5a322fca",
   "metadata": {},
   "outputs": [
    {
     "data": {
      "text/html": [
       "<div>\n",
       "<style scoped>\n",
       "    .dataframe tbody tr th:only-of-type {\n",
       "        vertical-align: middle;\n",
       "    }\n",
       "\n",
       "    .dataframe tbody tr th {\n",
       "        vertical-align: top;\n",
       "    }\n",
       "\n",
       "    .dataframe thead th {\n",
       "        text-align: right;\n",
       "    }\n",
       "</style>\n",
       "<table border=\"1\" class=\"dataframe\">\n",
       "  <thead>\n",
       "    <tr style=\"text-align: right;\">\n",
       "      <th></th>\n",
       "      <th>correo</th>\n",
       "      <th>ubicacion</th>\n",
       "      <th>id_pseudo</th>\n",
       "    </tr>\n",
       "  </thead>\n",
       "  <tbody>\n",
       "    <tr>\n",
       "      <th>0</th>\n",
       "      <td>juan@example.com</td>\n",
       "      <td>Ciudad A</td>\n",
       "      <td>38dd36d5-337b-44c6-9f8e-14519e366131</td>\n",
       "    </tr>\n",
       "    <tr>\n",
       "      <th>1</th>\n",
       "      <td>ana@example.com</td>\n",
       "      <td>Ciudad B</td>\n",
       "      <td>6d640c63-d7c8-4bac-ae06-225a6cad044f</td>\n",
       "    </tr>\n",
       "    <tr>\n",
       "      <th>2</th>\n",
       "      <td>maria@example.com</td>\n",
       "      <td>Ciudad C</td>\n",
       "      <td>c3c45db4-4c61-40d1-8e4f-6f4e655bf564</td>\n",
       "    </tr>\n",
       "    <tr>\n",
       "      <th>3</th>\n",
       "      <td>luis@example.com</td>\n",
       "      <td>Ciudad D</td>\n",
       "      <td>c60c8a4f-47a1-4d1b-85b3-62aba91749e3</td>\n",
       "    </tr>\n",
       "    <tr>\n",
       "      <th>4</th>\n",
       "      <td>carmen@example.com</td>\n",
       "      <td>Ciudad E</td>\n",
       "      <td>036705b2-59f0-4bb7-82b4-48e7bae164dd</td>\n",
       "    </tr>\n",
       "  </tbody>\n",
       "</table>\n",
       "</div>"
      ],
      "text/plain": [
       "               correo ubicacion                             id_pseudo\n",
       "0    juan@example.com  Ciudad A  38dd36d5-337b-44c6-9f8e-14519e366131\n",
       "1     ana@example.com  Ciudad B  6d640c63-d7c8-4bac-ae06-225a6cad044f\n",
       "2   maria@example.com  Ciudad C  c3c45db4-4c61-40d1-8e4f-6f4e655bf564\n",
       "3    luis@example.com  Ciudad D  c60c8a4f-47a1-4d1b-85b3-62aba91749e3\n",
       "4  carmen@example.com  Ciudad E  036705b2-59f0-4bb7-82b4-48e7bae164dd"
      ]
     },
     "execution_count": 102,
     "metadata": {},
     "output_type": "execute_result"
    }
   ],
   "source": [
    "df['id_pseudo'] = id_psuedo\n",
    "df.drop( 'nombre', axis=1, inplace=True )\n",
    "df"
   ]
  },
  {
   "cell_type": "code",
   "execution_count": 103,
   "id": "9b507601-9ab8-4fb1-8ba5-c95829f2e410",
   "metadata": {},
   "outputs": [],
   "source": [
    "def hash_data(data):\n",
    "    return hashlib.sha256(data.encode()).hexdigest()"
   ]
  },
  {
   "cell_type": "code",
   "execution_count": 104,
   "id": "f303802d-6799-4d81-aaae-787395de726f",
   "metadata": {},
   "outputs": [],
   "source": [
    "hash_emails = []"
   ]
  },
  {
   "cell_type": "code",
   "execution_count": 105,
   "id": "c82bb5c9-f5c9-4222-bba6-8e8d2032e159",
   "metadata": {},
   "outputs": [],
   "source": [
    "for email in df['correo']:\n",
    "    h_email = hash_data(email)\n",
    "    hash_emails.append(h_email)\n",
    "df['correo'] =  hash_emails"
   ]
  },
  {
   "cell_type": "code",
   "execution_count": 106,
   "id": "c3b06d4f-40a1-4135-81c8-5255b420181f",
   "metadata": {},
   "outputs": [
    {
     "data": {
      "text/html": [
       "<div>\n",
       "<style scoped>\n",
       "    .dataframe tbody tr th:only-of-type {\n",
       "        vertical-align: middle;\n",
       "    }\n",
       "\n",
       "    .dataframe tbody tr th {\n",
       "        vertical-align: top;\n",
       "    }\n",
       "\n",
       "    .dataframe thead th {\n",
       "        text-align: right;\n",
       "    }\n",
       "</style>\n",
       "<table border=\"1\" class=\"dataframe\">\n",
       "  <thead>\n",
       "    <tr style=\"text-align: right;\">\n",
       "      <th></th>\n",
       "      <th>correo</th>\n",
       "      <th>ubicacion</th>\n",
       "      <th>id_pseudo</th>\n",
       "    </tr>\n",
       "  </thead>\n",
       "  <tbody>\n",
       "    <tr>\n",
       "      <th>0</th>\n",
       "      <td>81b562a0fe2aecc8831e2d7c9942f319736afc2a99415e...</td>\n",
       "      <td>Ciudad A</td>\n",
       "      <td>38dd36d5-337b-44c6-9f8e-14519e366131</td>\n",
       "    </tr>\n",
       "    <tr>\n",
       "      <th>1</th>\n",
       "      <td>8e43ca37701228e74983efdbd0cff5c16b3b1e5d4e29a7...</td>\n",
       "      <td>Ciudad B</td>\n",
       "      <td>6d640c63-d7c8-4bac-ae06-225a6cad044f</td>\n",
       "    </tr>\n",
       "    <tr>\n",
       "      <th>2</th>\n",
       "      <td>10ef04a5a1acd81d18a0c61fdd354a063da07223720a1d...</td>\n",
       "      <td>Ciudad C</td>\n",
       "      <td>c3c45db4-4c61-40d1-8e4f-6f4e655bf564</td>\n",
       "    </tr>\n",
       "    <tr>\n",
       "      <th>3</th>\n",
       "      <td>861d62c5b964e71b42e61aeb4e876f86908a86300b15b2...</td>\n",
       "      <td>Ciudad D</td>\n",
       "      <td>c60c8a4f-47a1-4d1b-85b3-62aba91749e3</td>\n",
       "    </tr>\n",
       "    <tr>\n",
       "      <th>4</th>\n",
       "      <td>5a67f04050bd4d08b6b2be561ab424b9e5f04d9a2058db...</td>\n",
       "      <td>Ciudad E</td>\n",
       "      <td>036705b2-59f0-4bb7-82b4-48e7bae164dd</td>\n",
       "    </tr>\n",
       "  </tbody>\n",
       "</table>\n",
       "</div>"
      ],
      "text/plain": [
       "                                              correo ubicacion  \\\n",
       "0  81b562a0fe2aecc8831e2d7c9942f319736afc2a99415e...  Ciudad A   \n",
       "1  8e43ca37701228e74983efdbd0cff5c16b3b1e5d4e29a7...  Ciudad B   \n",
       "2  10ef04a5a1acd81d18a0c61fdd354a063da07223720a1d...  Ciudad C   \n",
       "3  861d62c5b964e71b42e61aeb4e876f86908a86300b15b2...  Ciudad D   \n",
       "4  5a67f04050bd4d08b6b2be561ab424b9e5f04d9a2058db...  Ciudad E   \n",
       "\n",
       "                              id_pseudo  \n",
       "0  38dd36d5-337b-44c6-9f8e-14519e366131  \n",
       "1  6d640c63-d7c8-4bac-ae06-225a6cad044f  \n",
       "2  c3c45db4-4c61-40d1-8e4f-6f4e655bf564  \n",
       "3  c60c8a4f-47a1-4d1b-85b3-62aba91749e3  \n",
       "4  036705b2-59f0-4bb7-82b4-48e7bae164dd  "
      ]
     },
     "execution_count": 106,
     "metadata": {},
     "output_type": "execute_result"
    }
   ],
   "source": [
    "df"
   ]
  },
  {
   "cell_type": "code",
   "execution_count": 61,
   "id": "6a5f6d07-300c-47a7-bcfe-0231cb8137d9",
   "metadata": {},
   "outputs": [],
   "source": [
    "mis_tokens = {}\n"
   ]
  },
  {
   "cell_type": "code",
   "execution_count": 62,
   "id": "02e75b39-d463-4aa1-bdbe-bfd0200a7bb8",
   "metadata": {},
   "outputs": [],
   "source": [
    "def crear_token(dato):\n",
    "    token = str( uuid.uuid4() )\n",
    "    mis_tokens[token] = dato\n",
    "    return token"
   ]
  },
  {
   "cell_type": "code",
   "execution_count": 63,
   "id": "dce0391a-ce6e-4f81-ad11-804b43ee83d1",
   "metadata": {},
   "outputs": [],
   "source": [
    "def recuperar_dato( token ):\n",
    "    return mis_tokens.get(token, 'Token invalido')"
   ]
  },
  {
   "cell_type": "code",
   "execution_count": 65,
   "id": "b3033737-4c90-4798-9985-6a671f713805",
   "metadata": {},
   "outputs": [
    {
     "data": {
      "text/plain": [
       "'85a2acb5-f148-41f4-91f5-f6d7be99bb86'"
      ]
     },
     "execution_count": 65,
     "metadata": {},
     "output_type": "execute_result"
    }
   ],
   "source": [
    "dato_original = '123-456-789'\n",
    "nuevo_token = crear_token(dato_original)\n",
    "nuevo_token"
   ]
  },
  {
   "cell_type": "code",
   "execution_count": 66,
   "id": "cbd3ceef-57af-4824-8b7a-886094cae7bb",
   "metadata": {},
   "outputs": [
    {
     "data": {
      "text/plain": [
       "'123-456-789'"
      ]
     },
     "execution_count": 66,
     "metadata": {},
     "output_type": "execute_result"
    }
   ],
   "source": [
    "dato_recuperado = recuperar_dato(nuevo_token)\n",
    "dato_recuperado"
   ]
  },
  {
   "cell_type": "code",
   "execution_count": null,
   "id": "8d1d1c0a-7845-427e-a50b-ba0e9a311ef8",
   "metadata": {},
   "outputs": [],
   "source": []
  }
 ],
 "metadata": {
  "kernelspec": {
   "display_name": "Python 3 (ipykernel)",
   "language": "python",
   "name": "python3"
  },
  "language_info": {
   "codemirror_mode": {
    "name": "ipython",
    "version": 3
   },
   "file_extension": ".py",
   "mimetype": "text/x-python",
   "name": "python",
   "nbconvert_exporter": "python",
   "pygments_lexer": "ipython3",
   "version": "3.12.11"
  }
 },
 "nbformat": 4,
 "nbformat_minor": 5
}
